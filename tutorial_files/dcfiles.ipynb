{
 "cells": [
  {
   "cell_type": "markdown",
   "metadata": {},
   "source": [
    "# <h1 style=\"font-size: 44px; text-align: center; border-bottom: 1px solid #ddd;\">DC measurements for compensation</h1>\n",
    "\n",
    "<div style=\"background-color: var(--vscode-editor-foreground); color: var(--vscode-editor-background); padding: 20px; border-radius: 10px; box-shadow: 2px 2px 5px #ccc;\">\n",
    "  <p style=\"margin-bottom: 10px;\"><strong>Description:</strong> This feature is to calculate the compensated out of plane field to know which is the offset out of plane field for the sample. The offset field, is the out of plane field at which the resistance in a hall bar is minimum. To calculate it, the software fits a parabola and gets the minimum of it, both for the front and back sweep of the out of plane field, then calculates the mean of it. </p>\n",
    "  \n",
    "  ![alt text](dctutorial.png)\n",
    "\n",
    "The window size is for the number of points to be used for the fit at each side of the minimum.\n",
    "\n",
    "In case we have more than one front and back sweep, the software will fit a linear function to the minimums of each sweep to get a compensation function.\n",
    "</div>\n",
    "\n",
    "\n",
    "\n"
   ]
  }
 ],
 "metadata": {
  "kernelspec": {
   "display_name": "Python 3",
   "language": "python",
   "name": "python3"
  },
  "language_info": {
   "codemirror_mode": {
    "name": "ipython",
    "version": 3
   },
   "file_extension": ".py",
   "mimetype": "text/x-python",
   "name": "python",
   "nbconvert_exporter": "python",
   "pygments_lexer": "ipython3",
   "version": "3.10.6"
  }
 },
 "nbformat": 4,
 "nbformat_minor": 2
}
