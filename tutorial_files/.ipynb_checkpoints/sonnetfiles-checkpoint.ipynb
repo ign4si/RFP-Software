{
 "cells": [
  {
   "cell_type": "markdown",
   "metadata": {},
   "source": [
    "# <h1 style=\"font-size: 44px; text-align: center; border-bottom: 1px solid #ddd;\">How to plot and fit Sonnet simulations</h1>\n"
   ]
  },
  {
   "cell_type": "markdown",
   "metadata": {},
   "source": [
    "<div style=\"background-color: var(--vscode-editor-foreground); color: var(--vscode-editor-background); padding: 20px; border-radius: 10px; box-shadow: 2px 2px 5px #ccc;\">\n",
    "  <p style=\"margin-bottom: 10px;\"><strong>Instructions:</strong> Before running the program, export the data from Sonnet in CSV format (press Graph button the simulation) with the following settings:</p>\n",
    "  <ul style=\"list-style: disc; margin-left: 20px; margin-bottom: 20px;\">\n",
    "    <li>Output &rarr; S-Y-X Parameter File</li>\n",
    "    <li>File format: Spreadsheet (CSV)</li>\n",
    "    <li>De-Embedded: Yes</li>\n",
    "    <li>S-Param</li>\n",
    "    <li>DB-ANG</li>\n",
    "    <li>Include adaptive data and high precision</li>\n",
    "    <li>Do not include comments</li>\n",
    "  </ul>\n",
    "  <p><em>Note:</em> This program supports parameter sweeps from Sonnet.</p>\n",
    "  <p style=\"margin-bottom: 10px;\"><strong>Functionality of Buttons:</strong></p>\n",
    "  <ul>\n",
    "    <li><strong>Fit:</strong> Fits the resonance. The fit takes into account both the S_21 against frequency and Angle in degrees against frequency plots.</li>\n",
    "    <li><strong>Start Again:</strong> Simply starts the fitting process again with the initial seed values.</li>\n",
    "    <li><strong>Reset:</strong> Restarts the fitting process with the last parameters fitted. If nothing was fitted, this button functions the same as the Start Again button.</li>\n",
    "    <li><strong>Get Parameters:</strong> Retrieves all the parameters in a folder with the name of the file.</li>\n",
    "  </ul>\n",
    "  <p>The four sliders correspond to the parameters for frequency, phase, and both quality factors - one related to the intrinsic quality factor, and the other related to the coupling to the transmission line. It's also possible to switch between all the resonances that you have.</p>\n",
    "  <p>The <strong>Fit and Go</strong> button initiates the fitting process automatically. It may take some time to calculate, but don't worry!</p>\n",
    "  <p style=\"margin-bottom: 10px;\"><strong>Fit function:</strong></p>\n",
    "  <p>The fit function is the following:</p>\n",
    "\n",
    "  \n",
    "$$|S_{21}(x)|^2= \\frac{2Q_e x}{(1+a)^2+4Q_e^2x^2}+\\left(1-\\frac{1+a}{(1+a)^2+4Q_e^2x^2}\\right)^2$$\n",
    "$$\\text{Arg}(S_{21}(x))=\\arctan \\left(\\frac{2Q_e x}{a(a+1)+4Q_e^2x^2}\\right)$$\n",
    "\n",
    "where $a=Q_e/Q_i$ and $x=f/f_0-f_0/f$. From this fitting, we obtain $f_0$, the resonance frequency; $Q_i$, the internal quality factor dependent on the resonator type; and $Q_e$, the external quality factor dependent on the coupling between the line and the resonator. \n",
    "\n",
    "</div>\n",
    "\n",
    "\n",
    "\n"
   ]
  }
 ],
 "metadata": {
  "kernelspec": {
   "display_name": "Python 3",
   "language": "python",
   "name": "python3"
  },
  "language_info": {
   "codemirror_mode": {
    "name": "ipython",
    "version": 3
   },
   "file_extension": ".py",
   "mimetype": "text/x-python",
   "name": "python",
   "nbconvert_exporter": "python",
   "pygments_lexer": "ipython3",
   "version": "3.8.3"
  }
 },
 "nbformat": 4,
 "nbformat_minor": 2
}
