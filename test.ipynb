{
 "cells": [
  {
   "cell_type": "code",
   "execution_count": 1,
   "metadata": {},
   "outputs": [
    {
     "name": "stdout",
     "output_type": "stream",
     "text": [
      "(array([3, 6], dtype=int64),)\n"
     ]
    }
   ],
   "source": [
    "import numpy as np\n",
    "from scipy.signal import argrelextrema\n",
    "\n",
    "def find_deeps(y):\n",
    "    # Define a comparator for argrelextrema to find minima\n",
    "    comparator = np.less\n",
    "\n",
    "    # Find indices of relative minima\n",
    "    indices = argrelextrema(y, comparator)\n",
    "\n",
    "    return indices\n",
    "\n",
    "# Assume y is a numpy array\n",
    "y = np.array([1, 3, 7, 1, 2, 6, 3, 4, 1])\n",
    "\n",
    "# Find the deeps in y\n",
    "deeps = find_deeps(y)\n",
    "\n",
    "print(deeps)"
   ]
  },
  {
   "cell_type": "code",
   "execution_count": null,
   "metadata": {},
   "outputs": [],
   "source": []
  }
 ],
 "metadata": {
  "kernelspec": {
   "display_name": "qutip",
   "language": "python",
   "name": "python3"
  },
  "language_info": {
   "codemirror_mode": {
    "name": "ipython",
    "version": 3
   },
   "file_extension": ".py",
   "mimetype": "text/x-python",
   "name": "python",
   "nbconvert_exporter": "python",
   "pygments_lexer": "ipython3",
   "version": "3.10.6"
  }
 },
 "nbformat": 4,
 "nbformat_minor": 2
}
