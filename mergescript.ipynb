{
 "cells": [
  {
   "cell_type": "code",
   "execution_count": 2,
   "metadata": {},
   "outputs": [],
   "source": [
    "import numpy as np\n",
    "import matplotlib.pyplot as plt\n",
    "import os"
   ]
  },
  {
   "cell_type": "code",
   "execution_count": null,
   "metadata": {},
   "outputs": [],
   "source": [
    "root=r\"C:\\Users\\LocalAdmin\\Desktop\\Measurement\\Simon F\\LER06\\RF measurements\"\n",
    "ext=\"B=0.25\"\n",
    "#read files in the folder\n",
    "directories = os.listdir(root)\n",
    "#keep only the files that ends with B=0.1\n",
    "direct = [f for f in directories if f.endswith(ext)]\n",
    "files_list = []\n",
    "for f in direct:\n",
    "    folder=os.path.join(root, f)\n",
    "    files = os.listdir(folder)\n",
    "    #keep only the files that ends with .dat\n",
    "    files = [f for f in files if f.endswith(\".dat\")]\n",
    "    files_list.append(files[0])\n",
    "#get the header of the first file\n",
    "with open(os.path.join(root, direct[0], files_list[0])) as f:\n",
    "    header = f.readline()\n",
    "#read the files\n",
    "data = np.loadtxt(os.path.join(root, direct[0], files_list[0]))\n",
    "for i in range(1, len(direct)):\n",
    "    data = np.vstack((data, np.loadtxt(os.path.join(root, direct[i], files_list[i]))))\n",
    "\n",
    "create_folder = os.path.join(root, \"merged_\"+ext+\"_\")\n",
    "if not os.path.exists(create_folder):\n",
    "    os.makedirs(create_folder)\n",
    "np.savetxt(os.path.join(create_folder, ext+\".dat\"), data, header=header[2:])"
   ]
  },
  {
   "cell_type": "code",
   "execution_count": 1,
   "metadata": {},
   "outputs": [
    {
     "ename": "NameError",
     "evalue": "name 'os' is not defined",
     "output_type": "error",
     "traceback": [
      "\u001b[1;31m---------------------------------------------------------------------------\u001b[0m",
      "\u001b[1;31mNameError\u001b[0m                                 Traceback (most recent call last)",
      "\u001b[1;32mc:\\Users\\Nach Lobat\\Desktop\\RFP Software\\mergescript.ipynb Cell 3\u001b[0m line \u001b[0;36m<cell line: 2>\u001b[1;34m()\u001b[0m\n\u001b[0;32m      <a href='vscode-notebook-cell:/c%3A/Users/Nach%20Lobat/Desktop/RFP%20Software/mergescript.ipynb#W2sZmlsZQ%3D%3D?line=0'>1</a>\u001b[0m root\u001b[39m=\u001b[39m\u001b[39mr\u001b[39m\u001b[39m\"\u001b[39m\u001b[39mC:\u001b[39m\u001b[39m\\\u001b[39m\u001b[39mUsers\u001b[39m\u001b[39m\\\u001b[39m\u001b[39mLocalAdmin\u001b[39m\u001b[39m\\\u001b[39m\u001b[39mDesktop\u001b[39m\u001b[39m\\\u001b[39m\u001b[39mMeasurement\u001b[39m\u001b[39m\\\u001b[39m\u001b[39mSimon F\u001b[39m\u001b[39m\\\u001b[39m\u001b[39mLER06\u001b[39m\u001b[39m\\\u001b[39m\u001b[39mRF measurements\u001b[39m\u001b[39m\"\u001b[39m\n\u001b[1;32m----> <a href='vscode-notebook-cell:/c%3A/Users/Nach%20Lobat/Desktop/RFP%20Software/mergescript.ipynb#W2sZmlsZQ%3D%3D?line=1'>2</a>\u001b[0m create_folder1\u001b[39m=\u001b[39mos\u001b[39m.\u001b[39mpath\u001b[39m.\u001b[39mjoin(root,\u001b[39m\"\u001b[39m\u001b[39mmerged_B=0.1_\u001b[39m\u001b[39m\"\u001b[39m)\n\u001b[0;32m      <a href='vscode-notebook-cell:/c%3A/Users/Nach%20Lobat/Desktop/RFP%20Software/mergescript.ipynb#W2sZmlsZQ%3D%3D?line=2'>3</a>\u001b[0m create_folder2\u001b[39m=\u001b[39mos\u001b[39m.\u001b[39mpath\u001b[39m.\u001b[39mjoin(root,\u001b[39m\"\u001b[39m\u001b[39mmerged_B=0.25_\u001b[39m\u001b[39m\"\u001b[39m)\n\u001b[0;32m      <a href='vscode-notebook-cell:/c%3A/Users/Nach%20Lobat/Desktop/RFP%20Software/mergescript.ipynb#W2sZmlsZQ%3D%3D?line=3'>4</a>\u001b[0m ext1\u001b[39m=\u001b[39m\u001b[39m\"\u001b[39m\u001b[39mB=0.1_fit.txt\u001b[39m\u001b[39m\"\u001b[39m\n",
      "\u001b[1;31mNameError\u001b[0m: name 'os' is not defined"
     ]
    }
   ],
   "source": [
    "root=r\"C:\\Users\\LocalAdmin\\Desktop\\Measurement\\Simon F\\LER06\\RF measurements\"\n",
    "create_folder1=os.path.join(root,\"merged_B=0.1_\")\n",
    "create_folder2=os.path.join(root,\"merged_B=0.25_\")\n",
    "ext1=\"B=0.1_fit.txt\"\n",
    "ext2=\"B=0.25_fit.txt\"\n",
    "data=np.loadtxt(os.path.join(create_folder1, ext1),skiprows=1)\n",
    "data2=np.loadtxt(os.path.join(create_folder2, ext2),skiprows=1)\n",
    "r=data[:,1]/1e6\n",
    "r2=data2[:,1]/1e6\n",
    "\n",
    "r=np.abs(r-r[-1])\n",
    "r2=np.abs(r2-r2[0])\n",
    "\n",
    "theta=np.abs(np.arctan(data[:,8]/data[:,6]))\n",
    "theta2=np.abs(np.arctan(data2[:,8]/data2[:,6]))\n",
    "#do a polar plot r vs theta\n",
    "fig, ax = plt.subplots(figsize=(10,10), subplot_kw=dict(polar=True))\n",
    "ax.plot(theta, r,'o',label=\"B=0.1T\")\n",
    "ax.plot(theta2, r2,'o',label=\"B=0.25T\")\n",
    "\n",
    "# Set the radial ticks to include the radial origin\n",
    "#ax.set_rticks(np.round(np.arange(np.min(r), np.max(r)+0.002, 0.002),4))\n",
    "\n",
    "#ax.set_rmin(np.min(r))\n",
    "#ax.set_rmax(np.max(r2))\n",
    "#ax.set_rlabel_position(-22.5)\n",
    "# Show the radial grid lines\n",
    "ax.grid(True)\n",
    "\n",
    "\n",
    "# Set the title of the plot\n",
    "ax.set_title(\"LERO6. Angular dependence measurement. Wire parallel to the field at 90°. \\n $\\Delta f$. Radial increment of 1 MHz\", va='bottom')\n",
    "ax.legend()\n",
    "# Show the plot\n",
    "\n",
    "plt.savefig(os.path.join(create_folder1,\"LERO6_Deltaf_0.1_0.25.png\"))\n",
    "plt.savefig(os.path.join(create_folder2,\"LERO6_Deltaf_0.1_0.25.pdf\"))\n",
    "plt.show()\n",
    "\n"
   ]
  },
  {
   "cell_type": "code",
   "execution_count": null,
   "metadata": {},
   "outputs": [],
   "source": [
    "root=r\"C:\\Users\\LocalAdmin\\Desktop\\Measurement\\Simon F\\LER06\\RF measurements\"\n",
    "create_folder1=os.path.join(root,\"merged_B=0.1_\")\n",
    "create_folder2=os.path.join(root,\"merged_B=0.25_\")\n",
    "ext1=\"B=0.1_fit.txt\"\n",
    "ext2=\"B=0.25_fit.txt\"\n",
    "data=np.loadtxt(os.path.join(create_folder1, ext1),skiprows=1)\n",
    "data2=np.loadtxt(os.path.join(create_folder2, ext2),skiprows=1)\n",
    "r=data[:,1]/1e9\n",
    "r2=data2[:,1]/1e9\n",
    "\n",
    "\n",
    "theta=np.abs(np.arctan(data[:,8]/data[:,6]))\n",
    "theta2=np.abs(np.arctan(data2[:,8]/data2[:,6]))\n",
    "# #do a polar plot r vs theta\n",
    "fig, ax = plt.subplots(figsize=(10,10), subplot_kw=dict(polar=True))\n",
    "ax.plot(theta, r,'o',label=\"B=0.1T\")\n",
    "ax.plot(theta2, r2,'o',label=\"B=0.25T\")\n",
    "\n",
    "# Set the radial ticks to include the radial origin\n",
    "\n",
    "\n",
    "ax.set_rmin(np.min(r2)-0.001)\n",
    "ax.set_rmax(np.max(r))\n",
    "ax.set_rticks(np.round(np.arange(np.min(r2), np.max(r)+0.002, 0.002),3))\n",
    "ax.set_rlabel_position(-22.5)\n",
    "# Show the radial grid lines\n",
    "ax.grid(True)\n",
    "\n",
    "\n",
    "# # Set the title of the plot\n",
    "ax.set_title(\"LERO6. Angular dependence measurement. Wire parallel to the field at 90°. \\n Resonance frequency. Radial increment of 2 MHz\", va='bottom')\n",
    "ax.legend()\n",
    "\n",
    "plt.savefig(os.path.join(create_folder1,\"LERO6_f_0.1_0.25.png\"))\n",
    "plt.savefig(os.path.join(create_folder2,\"LERO6_f_0.1_0.25.pdf\"))\n",
    "# # Show the plot\n",
    "plt.show()\n"
   ]
  }
 ],
 "metadata": {
  "kernelspec": {
   "display_name": "qutip",
   "language": "python",
   "name": "python3"
  },
  "language_info": {
   "codemirror_mode": {
    "name": "ipython",
    "version": 3
   },
   "file_extension": ".py",
   "mimetype": "text/x-python",
   "name": "python",
   "nbconvert_exporter": "python",
   "pygments_lexer": "ipython3",
   "version": "3.10.6"
  }
 },
 "nbformat": 4,
 "nbformat_minor": 2
}
