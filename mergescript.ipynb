{
 "cells": [
  {
   "cell_type": "code",
   "execution_count": null,
   "metadata": {},
   "outputs": [],
   "source": [
    "import numpy as np\n",
    "import matplotlib.pyplot as plt\n",
    "import os"
   ]
  },
  {
   "cell_type": "code",
   "execution_count": null,
   "metadata": {},
   "outputs": [],
   "source": [
    "root=r\"C:\\Users\\LocalAdmin\\Desktop\\Measurement\\Simon F\\LER06\\RF measurements\"\n",
    "#read files in the folder\n",
    "directories = os.listdir(root)\n",
    "#keep only the files that ends with B=0.1\n",
    "direct = [f for f in directories if f.endswith(\"B=0.1\")]\n",
    "files_list = []\n",
    "for f in direct:\n",
    "    folder=os.path.join(root, f)\n",
    "    files = os.listdir(folder)\n",
    "    #keep only the files that ends with .dat\n",
    "    files = [f for f in files if f.endswith(\".dat\")]\n",
    "    files_list.append(files[0])\n",
    "#get the header of the first file\n",
    "with open(os.path.join(root, direct[0], files_list[0])) as f:\n",
    "    header = f.readline()\n",
    "#read the files\n",
    "data = np.loadtxt(os.path.join(root, direct[0], files_list[0]))\n",
    "for i in range(1, len(direct)):\n",
    "    data = np.vstack((data, np.loadtxt(os.path.join(root, direct[i], files_list[i]))))\n",
    "\n",
    "create_folder = os.path.join(root, \"merged_B=0.1_\")\n",
    "if not os.path.exists(create_folder):\n",
    "    os.makedirs(create_folder)\n",
    "np.savetxt(os.path.join(create_folder, \"merged_B=0.1.dat\"), data, header=header[2:])"
   ]
  }
 ],
 "metadata": {
  "language_info": {
   "name": "python"
  }
 },
 "nbformat": 4,
 "nbformat_minor": 2
}
