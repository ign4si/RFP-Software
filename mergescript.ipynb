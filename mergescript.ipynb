{
 "cells": [
  {
   "cell_type": "code",
   "execution_count": null,
   "metadata": {},
   "outputs": [],
   "source": [
    "import numpy as np\n",
    "import matplotlib.pyplot as plt\n",
    "import os"
   ]
  },
  {
   "cell_type": "code",
   "execution_count": null,
   "metadata": {},
   "outputs": [],
   "source": [
    "root=\"C:\\Users\\LocalAdmin\\Desktop\\Measurement\\Simon F\\LER06\\RF measurements\"\n",
    "#read files in the folder\n",
    "directories = os.listdir(root)\n",
    "#keep only the files that ends with B=0.1\n",
    "direct = [f for f in directories if f.endswith(\"B=0.1\")]\n",
    "files_list = []\n",
    "for f in direct:\n",
    "    folder=os.path.join(folder, f)\n",
    "    files = os.listdir(folder)\n",
    "    #keep only the files that ends with .dat\n",
    "    files = [f for f in files if f.endswith(\".dat\")]\n",
    "    files_list.append(files[0])\n",
    "\n",
    "#read the files\n",
    "data = np.loadtxt(os.path.join(folder, files_list[0]))\n",
    "for f in files_list[1:]:\n",
    "    data = np.vstack((data, np.loadtxt(os.path.join(folder, f))))\n",
    "\n"
   ]
  }
 ],
 "metadata": {
  "language_info": {
   "name": "python"
  }
 },
 "nbformat": 4,
 "nbformat_minor": 2
}
