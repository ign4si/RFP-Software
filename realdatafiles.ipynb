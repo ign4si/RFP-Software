{
 "cells": [
  {
   "cell_type": "markdown",
   "metadata": {},
   "source": [
    "# <h1 style=\"font-size: 44px; text-align: center; border-bottom: 1px solid #ddd;\">How to read real data, plot and fit</h1>\n"
   ]
  },
  {
   "cell_type": "markdown",
   "metadata": {},
   "source": [
    "<div style=\"background-color: var(--vscode-editor-foreground); color: var(--vscode-editor-background); padding: 20px; border-radius: 10px; box-shadow: 2px 2px 5px #ccc;\">\n",
    "  <p style=\"margin-bottom: 10px;\"><strong>Instructions:</strong> It will first ask you to select the folder where the files to plot are, the files should have the following format</p>\n",
    "  <ul style=\"list-style: disc; margin-left: 20px; margin-bottom: 20px;\">\n",
    "    <li>A header with the name of all the parameters in our measurements.</li>\n",
    "    <li> A complete dataset with all the supported columns should be the following:<b># temperature\tpower\tbandwidth\tfreq Bx By Bz\tRe_S21\tIm_S21\tamplitude\tphase </b> </li>\n",
    "    <li>After the header, the data should be in the same order as the header. <b> The header order is not important </b></li>\n",
    "    <li>All the data should be separated by tabs or spaces, and every sweep should be stacked one after the other.</li>\n",
    "    <li>The only columns that are necessary are the <b>frequency</b> , the <b> amplitude </b>, and the <b> phase </b>. The other columns are optional.</li>\n",
    "    <li>For example, for a dataset without magnetic field the format could be:</li>\n",
    "  </ul>\n",
    "  \n",
    "  ![Alt text](image.png)\n",
    "\n",
    "\n",
    "\n",
    "  <p><em>Note:</em> Be sure that your bandwidth column is called <b>bandwidth</b> and not <b>bw</b> or any other name.</p>\n",
    "  <p style=\"margin-bottom: 10px;\"><strong>Overview:</strong></p>\n",
    "\n",
    "  <img src=\"tutorial.png\" width=\"80%\" style=\"margin-bottom: 20px;\">\n",
    "  \n",
    "\n",
    "</div>\n",
    "\n",
    "\n",
    "\n"
   ]
  },
  {
   "cell_type": "markdown",
   "metadata": {},
   "source": [
    " <ul>\n",
    "    <li><strong>Folder name:</strong> Name of the folder where the files are.</li>\n",
    "    <li><strong>File number:</strong> Index of the file in the folder, 0 for the first.</li>\n",
    "    <li><strong>Curves shift:</strong> Select the shift between the different curves in the plot.</li>\n",
    "    <li><strong>Colormap selector:</strong> Selects the colormap for the plot.</li>\n",
    "    <li><strong>Colorbar switch:</strong> Activates the colorbar.</li>\n",
    "    <li><strong>Sweep parameter selector:</strong> Select the parameter that has been swept. The colorbar will be deactivated if the parameter is not swept or if the parameter selected is not in the datafile.</li>\n",
    "    <li><strong>Fit Button:</strong> Fits the data shown in the plot. (See Fit section on this document)</li>\n",
    "    <li><strong>Guess delay switch:</strong> Activates the \"Guess delay\" option during the fitting. (See Fit section on this document)</li>\n",
    "    <li><strong>Labels:</strong> X axis label, Y axis label, Title, Colorbar label</li>\n",
    "    <li><strong>Plot selector:</strong> Select the data to plot. Labels are manually set.</li>\n",
    "    <li><strong>Baseline switch:</strong> Select the datafile where only the baseline is, every curve in the plot will be shifted by this baseline curve. Keep in mind that </li>\n",
    "  </ul>"
   ]
  },
  {
   "cell_type": "markdown",
   "metadata": {},
   "source": []
  }
 ],
 "metadata": {
  "language_info": {
   "name": "python"
  },
  "orig_nbformat": 4
 },
 "nbformat": 4,
 "nbformat_minor": 2
}
